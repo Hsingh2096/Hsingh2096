{
 "cells": [
  {
   "cell_type": "markdown",
   "metadata": {},
   "source": [
    "See [schema](https://oss-augur.readthedocs.io/en/dev/_images/schema.png) for details."
   ]
  },
  {
   "cell_type": "code",
   "execution_count": 1,
   "metadata": {},
   "outputs": [],
   "source": [
    "import psycopg2\n",
    "import pandas as pd \n",
    "# from sqlalchemy.types import Integer, Text, String, DateTime\n",
    "import sqlalchemy as s\n",
    "import matplotlib\n",
    "import numpy as np\n",
    "import seaborn as sns\n",
    "import matplotlib.pyplot as plt\n",
    "import json\n",
    "\n",
    "with open(\"config.json\") as config_file:\n",
    "    config = json.load(config_file)\n",
    "\n",
    "database_connection_string = 'postgres+psycopg2://{}:{}@{}:{}/{}'.format(config['user'], config['password'], config['host'], config['port'], config['database'])\n",
    "\n",
    "dbschema='augur_data'\n",
    "engine = s.create_engine(\n",
    "    database_connection_string,\n",
    "    connect_args={'options': '-csearch_path={}'.format(dbschema)})"
   ]
  },
  {
   "cell_type": "code",
   "execution_count": 3,
   "metadata": {},
   "outputs": [
    {
     "name": "stdout",
     "output_type": "stream",
     "text": [
      "                   tablename\n",
      "0                _git_census\n",
      "1       contributors_aliases\n",
      "2   contributor_affiliations\n",
      "3       dm_repo_group_annual\n",
      "4     pull_request_assignees\n",
      "5        pull_request_events\n",
      "6         pull_request_teams\n",
      "7                repo_groups\n",
      "8         repo_test_coverage\n",
      "9            repos_fetch_log\n",
      "10                  settings\n",
      "11             unknown_cache\n",
      "12               utility_log\n",
      "13           working_commits\n",
      "14                repo_stats\n",
      "15        commit_comment_ref\n",
      "16              analysis_log\n",
      "17      chaoss_metric_status\n",
      "18            commit_parents\n",
      "19      contributors_history\n",
      "20            dm_repo_annual\n",
      "21                   commits\n",
      "22              contributors\n",
      "23     dm_repo_group_monthly\n",
      "24      dm_repo_group_weekly\n",
      "25           dm_repo_monthly\n",
      "26            dm_repo_weekly\n",
      "27                   exclude\n",
      "28                    issues\n",
      "29              issue_labels\n",
      "30         issue_message_ref\n",
      "31              issue_events\n",
      "32           issue_assignees\n",
      "33                 libraries\n",
      "34      library_dependencies\n",
      "35           library_version\n",
      "36       pull_request_labels\n",
      "37  pull_request_message_ref\n",
      "38         pull_request_meta\n",
      "39                   message\n",
      "40                  platform\n",
      "41    repo_groups_list_serve\n",
      "42       repo_group_insights\n",
      "43        repo_ghtorrent_map\n",
      "44                 repo_info\n",
      "45              repo_badging\n",
      "46             pull_requests\n",
      "47             repo_insights\n",
      "48     repo_insights_records\n",
      "49                repo_labor\n",
      "50                 repo_meta\n",
      "51         pull_request_repo\n",
      "52                      repo\n",
      "53    pull_request_reviewers\n",
      "54           repo_sbom_scans\n"
     ]
    }
   ],
   "source": [
    "table_query = f\"\"\"\n",
    "SELECT\n",
    "   tablename\n",
    "FROM\n",
    "   pg_catalog.pg_tables\n",
    "WHERE\n",
    "   schemaname = 'augur_data';\n",
    "    \"\"\"\n",
    "tables = pd.read_sql_query(table_query, con=engine)\n",
    "print(tables)"
   ]
  },
  {
   "cell_type": "code",
   "execution_count": 4,
   "metadata": {},
   "outputs": [
    {
     "name": "stdout",
     "output_type": "stream",
     "text": [
      "             column_name\n",
      "0          repo_group_id\n",
      "1                rg_name\n",
      "2         rg_description\n",
      "3             rg_website\n",
      "4             rg_recache\n",
      "5       rg_last_modified\n",
      "6                rg_type\n",
      "7            tool_source\n",
      "8           tool_version\n",
      "9            data_source\n",
      "10  data_collection_date\n"
     ]
    }
   ],
   "source": [
    "desc_table_query = f\"\"\"\n",
    "SELECT\n",
    "   COLUMN_NAME\n",
    "FROM\n",
    "   information_schema.COLUMNS\n",
    "WHERE\n",
    "   TABLE_NAME = 'repo_groups';\n",
    "    \"\"\"\n",
    "table_desc = pd.read_sql_query(desc_table_query, con=engine)\n",
    "print(table_desc)\n"
   ]
  },
  {
   "cell_type": "code",
   "execution_count": 2,
   "metadata": {},
   "outputs": [
    {
     "name": "stdout",
     "output_type": "stream",
     "text": [
      "                      rg_name  repo_group_id\n",
      "0          Pivotal-DataFabric          25162\n",
      "1                 SteeltoeOSS          25161\n",
      "2               spring-guides          25160\n",
      "3                greenplum-db          25159\n",
      "4                       GemXD          25158\n",
      "5             Spring-projects          25157\n",
      "6                   spring-io          25156\n",
      "7                    rabbitmq          25155\n",
      "8                 pivotal-gss          25176\n",
      "9           pivotal-education          25175\n",
      "10            pivotalsoftware          25174\n",
      "11                 Pivotal-sg          25173\n",
      "12                    pivotal          25172\n",
      "13            pivotalservices          25171\n",
      "14  Pivotal-Field-Engineering          25170\n",
      "15                      Rails              1\n",
      "16  platform-acceleration-lab          25169\n",
      "17            cf-platform-eng          25168\n",
      "18           pivotal-cloudops          25167\n",
      "19               pcfdev-forks          25166\n",
      "20             pivotaltracker          25165\n",
      "21                   cfmobile          25164\n",
      "22   Pivotal-Data-Engineering          25163\n",
      "23    pivotal-cf-experimental          25180\n",
      "24                 pivotal-cf          25179\n",
      "25                    gemfire          25178\n",
      "26                   appsuite          25177\n"
     ]
    }
   ],
   "source": [
    "get_id_query = f\"\"\"\n",
    "SELECT\n",
    "   rg_name, repo_group_id\n",
    "FROM\n",
    "   repo_groups;\n",
    "    \"\"\"\n",
    "get_id_desc = pd.read_sql_query(get_id_query, con=engine)\n",
    "print(get_id_desc)"
   ]
  },
  {
   "cell_type": "code",
   "execution_count": null,
   "metadata": {},
   "outputs": [],
   "source": []
  }
 ],
 "metadata": {
  "kernelspec": {
   "display_name": "Python 3",
   "language": "python",
   "name": "python3"
  },
  "language_info": {
   "codemirror_mode": {
    "name": "ipython",
    "version": 3
   },
   "file_extension": ".py",
   "mimetype": "text/x-python",
   "name": "python",
   "nbconvert_exporter": "python",
   "pygments_lexer": "ipython3",
   "version": "3.7.4"
  }
 },
 "nbformat": 4,
 "nbformat_minor": 2
}
