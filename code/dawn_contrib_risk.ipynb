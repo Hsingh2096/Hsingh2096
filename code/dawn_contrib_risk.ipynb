{
 "cells": [
  {
   "cell_type": "code",
   "execution_count": 1,
   "metadata": {},
   "outputs": [],
   "source": [
    "import psycopg2\n",
    "import pandas as pd \n",
    "# from sqlalchemy.types import Integer, Text, String, DateTime\n",
    "import sqlalchemy as s\n",
    "import matplotlib\n",
    "import numpy as np\n",
    "import seaborn as sns\n",
    "import matplotlib.pyplot as plt\n",
    "import json\n",
    "\n",
    "with open(\"config.json\") as config_file:\n",
    "    config = json.load(config_file)\n",
    "\n",
    "database_connection_string = 'postgres+psycopg2://{}:{}@{}:{}/{}'.format(config['user'], config['password'], config['host'], config['port'], config['database'])\n",
    "\n",
    "dbschema='augur_data'\n",
    "engine = s.create_engine(\n",
    "    database_connection_string,\n",
    "    connect_args={'options': '-csearch_path={}'.format(dbschema)})"
   ]
  },
  {
   "cell_type": "code",
   "execution_count": 2,
   "metadata": {},
   "outputs": [
    {
     "name": "stdout",
     "output_type": "stream",
     "text": [
      "   repo_id        repo_name                              repo_path\n",
      "0    26235        concourse               github.com/pcfdev-forks/\n",
      "1    28051        concourse                  github.com/concourse/\n",
      "2    28030         sonobuoy               github.com/vmware-tanzu/\n",
      "3    27913          clarity                     github.com/vmware/\n",
      "4    26983        postfacto                    github.com/pivotal/\n",
      "5    27169             gpdb                github.com/pivotal-gss/\n",
      "6    25857             gpdb               github.com/greenplum-db/\n",
      "7    25432  rabbitmq-server                   github.com/rabbitmq/\n",
      "8    26600             gpdb  github.com/Pivotal-Field-Engineering/\n",
      "9    27043            kpack                    github.com/pivotal/\n"
     ]
    }
   ],
   "source": [
    "repo_list = pd.DataFrame()\n",
    "repo_list_query = f\"\"\"\n",
    "SELECT repo_id, repo_name, repo_path from repo\n",
    "WHERE repo_name = 'concourse' OR repo_name = 'postfacto' or repo_name = 'clarity' or repo_name = 'gpdb' or\n",
    "      repo_name = 'kpack' or repo_name = 'rabbitmq-server' or repo_name = 'sonobuoy';\n",
    "    \"\"\"\n",
    "repo_list = pd.read_sql_query(repo_list_query, con=engine)\n",
    "print(repo_list)"
   ]
  },
  {
   "cell_type": "code",
   "execution_count": 182,
   "metadata": {},
   "outputs": [],
   "source": [
    "## List of repository IDs for the report\n",
    "#repo_dict = {25760, 25663} #spring-boot & spring-framework\n",
    "#repo_dict = {28051} # concourse\n",
    "#repo_dict = {26983} #postfacto\n",
    "#repo_dict = {25432} #rabbitmq-server\n",
    "repo_dict = {25663} #spring-framework\n",
    "#repo_dict = {28030} #sonobuoy"
   ]
  },
  {
   "cell_type": "code",
   "execution_count": 183,
   "metadata": {},
   "outputs": [
    {
     "name": "stdout",
     "output_type": "stream",
     "text": [
      "'2020-03-11'\n",
      "'2019-03-12'\n"
     ]
    }
   ],
   "source": [
    "#from datetime import date\n",
    "import datetime \n",
    "\n",
    "current = datetime.date.today()\n",
    "today = \"'\" + str(current) + \"'\"\n",
    "print(today)\n",
    "\n",
    "start = current - datetime.timedelta(days=365)\n",
    "year_ago = \"'\" + str(start) + \"'\"\n",
    "print(year_ago)"
   ]
  },
  {
   "cell_type": "code",
   "execution_count": 184,
   "metadata": {},
   "outputs": [],
   "source": [
    "#Commit data - from humans excluding bots\n",
    "commitsDF = pd.DataFrame()\n",
    "for value in repo_dict: \n",
    "    commitsquery = f\"\"\"\n",
    "                    SELECT\n",
    "                        cmt_author_name, repo_id, cmt_id, cmt_author_timestamp from commits\n",
    "                    WHERE\n",
    "                        repo_id = {value}\n",
    "                        AND cmt_author_name NOT LIKE 'snyk%%'\n",
    "                        AND cmt_author_name NOT LIKE '%%bot'\n",
    "                        AND cmt_author_name != 'Spring Operator'\n",
    "                        AND cmt_author_timestamp > {year_ago}\n",
    "                    ORDER BY\n",
    "                        cmt_author_timestamp;\n",
    "                    \"\"\"\n",
    "\n",
    "commitsDF = pd.read_sql_query(commitsquery, con=engine)\n",
    "                        "
   ]
  },
  {
   "cell_type": "code",
   "execution_count": 185,
   "metadata": {},
   "outputs": [
    {
     "name": "stdout",
     "output_type": "stream",
     "text": [
      "         cmt_author_name  repo_id    cmt_id      cmt_author_timestamp\n",
      "0           Jorg Heymans    25663  37711225 2019-03-12 07:20:10+00:00\n",
      "1        Stephane Nicoll    25663  37693704 2019-03-12 08:09:34+00:00\n",
      "2        Stephane Nicoll    25663  37648310 2019-03-12 08:10:29+00:00\n",
      "3        Stephane Nicoll    25663  37772900 2019-03-12 08:10:49+00:00\n",
      "4         Сергей Цыпанов    25663  37705778 2019-03-12 12:15:59+00:00\n",
      "...                  ...      ...       ...                       ...\n",
      "18541  Rossen Stoyanchev    25663  41876374 2020-03-04 19:28:05+00:00\n",
      "18542      Arjen Poutsma    25663  41876366 2020-03-05 14:31:20+00:00\n",
      "18543      Arjen Poutsma    25663  41876365 2020-03-05 14:31:20+00:00\n",
      "18544        Qimiao Chen    25663  41876345 2020-03-06 11:34:00+00:00\n",
      "18545    Sviatoslav Hryb    25663  41892890 2020-03-07 19:40:46+00:00\n",
      "\n",
      "[18546 rows x 4 columns]\n"
     ]
    }
   ],
   "source": [
    "print(commitsDF)"
   ]
  },
  {
   "cell_type": "code",
   "execution_count": 186,
   "metadata": {},
   "outputs": [
    {
     "name": "stdout",
     "output_type": "stream",
     "text": [
      "18546\n"
     ]
    }
   ],
   "source": [
    "total_commits = commitsDF.cmt_id.nunique()\n",
    "print(total_commits)"
   ]
  },
  {
   "cell_type": "code",
   "execution_count": 187,
   "metadata": {},
   "outputs": [
    {
     "name": "stdout",
     "output_type": "stream",
     "text": [
      "                name  commits   percent\n",
      "0       Phillip Webb     6531  0.352151\n",
      "1        Sam Brannen     6526  0.351882\n",
      "2  Rossen Stoyanchev     1342  0.072361\n",
      "3    Juergen Hoeller     1184  0.063841\n",
      "4  Sebastien Deleuze      693  0.037367\n",
      "5          Phil Webb      671  0.036180\n",
      "6       Brian Clozel      359  0.019357\n",
      "7      Arjen Poutsma      245  0.013210\n",
      "8          Rob Winch      132  0.007117\n",
      "9    Stephane Nicoll      119  0.006416\n"
     ]
    }
   ],
   "source": [
    "authorDF = pd.DataFrame()\n",
    "authorDF = commitsDF.cmt_author_name.value_counts()\n",
    "authorDF = authorDF.reset_index()\n",
    "authorDF.columns = ['name', 'commits']\n",
    "authorDF['percent'] = authorDF['commits'] / total_commits\n",
    "print(authorDF.head(10))"
   ]
  },
  {
   "cell_type": "code",
   "execution_count": 188,
   "metadata": {},
   "outputs": [
    {
     "name": "stdout",
     "output_type": "stream",
     "text": [
      "Contributor Risk Metric Assessment: AT RISK \n",
      "\n",
      "Only 2 people make up 70% of the commits in the past year:\n",
      "Phillip Webb 35% - 6531 commits\n",
      "Sam Brannen 35% - 6526 commits\n",
      "\n",
      "A healthy project should have at a minimum 3 people who combined account for the majority of the commits. The higher this number is, the more likely your project would succeed if a leading contributor suddenly left the project.\n"
     ]
    }
   ],
   "source": [
    "cum_percent = 0\n",
    "people_list = []\n",
    "\n",
    "for item in authorDF.iterrows():\n",
    "    name = item[1]['name']\n",
    "    percent = item[1]['percent']\n",
    "    commits = item[1]['commits']\n",
    "    \n",
    "    cum_percent += percent\n",
    "    \n",
    "    people_list.append([name, percent, commits])\n",
    "    if cum_percent > .50:\n",
    "        break\n",
    "\n",
    "print(\"Contributor Risk Metric Assessment: \", end = '')\n",
    "num_people = len(people_list)\n",
    "if num_people < 3:\n",
    "    print('AT RISK \\n\\nOnly ', end = '')\n",
    "else:\n",
    "    print('Healthy\\n')\n",
    "    \n",
    "print(num_people, \"people make up\", \"{:.0%}\".format(cum_percent), \"of the commits in the past year:\")\n",
    "\n",
    "for person in people_list:\n",
    "    name = person[0]\n",
    "    percent = person[1]\n",
    "    commits = person[2]\n",
    "    print(name, \"{:.0%}\".format(percent), \"-\", commits, \"commits\")\n",
    "    \n",
    "print(\"\\nA healthy project should have at a minimum 3 people who combined account for the majority of the commits. The higher this number is, the more likely your project would succeed if a leading contributor suddenly left the project.\")"
   ]
  },
  {
   "cell_type": "code",
   "execution_count": null,
   "metadata": {},
   "outputs": [],
   "source": []
  },
  {
   "cell_type": "code",
   "execution_count": null,
   "metadata": {},
   "outputs": [],
   "source": []
  }
 ],
 "metadata": {
  "kernelspec": {
   "display_name": "Python 3",
   "language": "python",
   "name": "python3"
  },
  "language_info": {
   "codemirror_mode": {
    "name": "ipython",
    "version": 3
   },
   "file_extension": ".py",
   "mimetype": "text/x-python",
   "name": "python",
   "nbconvert_exporter": "python",
   "pygments_lexer": "ipython3",
   "version": "3.7.4"
  }
 },
 "nbformat": 4,
 "nbformat_minor": 2
}
