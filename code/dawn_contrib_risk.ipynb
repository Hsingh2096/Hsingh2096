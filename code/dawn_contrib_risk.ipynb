{
 "cells": [
  {
   "cell_type": "code",
   "execution_count": 1,
   "metadata": {},
   "outputs": [],
   "source": [
    "import psycopg2\n",
    "import pandas as pd \n",
    "# from sqlalchemy.types import Integer, Text, String, DateTime\n",
    "import sqlalchemy as s\n",
    "import matplotlib\n",
    "import numpy as np\n",
    "import seaborn as sns\n",
    "import matplotlib.pyplot as plt\n",
    "import json\n",
    "\n",
    "with open(\"config.json\") as config_file:\n",
    "    config = json.load(config_file)\n",
    "\n",
    "database_connection_string = 'postgres+psycopg2://{}:{}@{}:{}/{}'.format(config['user'], config['password'], config['host'], config['port'], config['database'])\n",
    "\n",
    "dbschema='augur_data'\n",
    "engine = s.create_engine(\n",
    "    database_connection_string,\n",
    "    connect_args={'options': '-csearch_path={}'.format(dbschema)})"
   ]
  },
  {
   "cell_type": "code",
   "execution_count": 2,
   "metadata": {},
   "outputs": [
    {
     "name": "stdout",
     "output_type": "stream",
     "text": [
      "   repo_id        repo_name                              repo_path\n",
      "0    26235        concourse               github.com/pcfdev-forks/\n",
      "1    28051        concourse                  github.com/concourse/\n",
      "2    28030         sonobuoy               github.com/vmware-tanzu/\n",
      "3    27913          clarity                     github.com/vmware/\n",
      "4    26983        postfacto                    github.com/pivotal/\n",
      "5    27169             gpdb                github.com/pivotal-gss/\n",
      "6    25857             gpdb               github.com/greenplum-db/\n",
      "7    25432  rabbitmq-server                   github.com/rabbitmq/\n",
      "8    26600             gpdb  github.com/Pivotal-Field-Engineering/\n",
      "9    27043            kpack                    github.com/pivotal/\n"
     ]
    }
   ],
   "source": [
    "repo_list = pd.DataFrame()\n",
    "repo_list_query = f\"\"\"\n",
    "SELECT repo_id, repo_name, repo_path from repo\n",
    "WHERE repo_name = 'concourse' OR repo_name = 'postfacto' or repo_name = 'clarity' or repo_name = 'gpdb' or\n",
    "      repo_name = 'kpack' or repo_name = 'rabbitmq-server' or repo_name = 'sonobuoy';\n",
    "    \"\"\"\n",
    "repo_list = pd.read_sql_query(repo_list_query, con=engine)\n",
    "print(repo_list)"
   ]
  },
  {
   "cell_type": "code",
   "execution_count": 3,
   "metadata": {},
   "outputs": [],
   "source": [
    "## List of repository IDs for the report\n",
    "#repo_dict = {25760, 25663} #spring-boot & spring-framework\n",
    "#repo_dict = {28051} # concourse\n",
    "#repo_dict = {26983} #postfacto\n",
    "#repo_dict = {25432} #rabbitmq-server\n",
    "repo_dict = {25663} #spring-framework\n",
    "#repo_dict = {28030} #sonobuoy"
   ]
  },
  {
   "cell_type": "code",
   "execution_count": 18,
   "metadata": {},
   "outputs": [
    {
     "name": "stdout",
     "output_type": "stream",
     "text": [
      "'2020-03-11'\n",
      "'2020-02-29'\n",
      "'2019-03-01'\n"
     ]
    }
   ],
   "source": [
    "#from datetime import date\n",
    "import datetime \n",
    "\n",
    "current = datetime.date.today()\n",
    "today = \"'\" + str(current) + \"'\"\n",
    "print(today)\n",
    "\n",
    "first_current = current.replace(day=1)\n",
    "last_month = first_current - datetime.timedelta(days=1)\n",
    "end_date = \"'\" + str(last_month) + \"'\"\n",
    "print(end_date)\n",
    "\n",
    "print\n",
    "\n",
    "start = last_month - datetime.timedelta(days=365)\n",
    "year_ago = \"'\" + str(start) + \"'\"\n",
    "print(year_ago)"
   ]
  },
  {
   "cell_type": "code",
   "execution_count": 19,
   "metadata": {},
   "outputs": [],
   "source": [
    "#Commit data - from humans excluding bots\n",
    "commitsDF = pd.DataFrame()\n",
    "for value in repo_dict: \n",
    "    commitsquery = f\"\"\"\n",
    "                    SELECT\n",
    "                        cmt_author_name, cmt_author_email, repo_id, cmt_id, cmt_author_timestamp from commits\n",
    "                    WHERE\n",
    "                        repo_id = {value}\n",
    "                        AND cmt_author_name NOT LIKE 'snyk%%'\n",
    "                        AND cmt_author_name NOT LIKE '%%bot'\n",
    "                        AND cmt_author_name != 'Spring Operator'\n",
    "                        AND cmt_author_timestamp >= {year_ago}\n",
    "                        AND cmt_author_timestamp <= {end_date}\n",
    "                    ORDER BY\n",
    "                        cmt_author_timestamp;\n",
    "                    \"\"\"\n",
    "\n",
    "commitsDF = pd.read_sql_query(commitsquery, con=engine)\n",
    "                        "
   ]
  },
  {
   "cell_type": "code",
   "execution_count": 20,
   "metadata": {},
   "outputs": [
    {
     "name": "stdout",
     "output_type": "stream",
     "text": [
      "         cmt_author_name        cmt_author_email  repo_id    cmt_id  \\\n",
      "0            Sam Brannen     sbrannen@pivotal.io    25663  37761439   \n",
      "1            Sam Brannen     sbrannen@pivotal.io    25663  37761427   \n",
      "2            Sam Brannen     sbrannen@pivotal.io    25663  37761442   \n",
      "3            Sam Brannen     sbrannen@pivotal.io    25663  37761441   \n",
      "4            Sam Brannen     sbrannen@pivotal.io    25663  37761428   \n",
      "...                  ...                     ...      ...       ...   \n",
      "18913  Rossen Stoyanchev  rstoyanchev@pivotal.io    25663  41874397   \n",
      "18914                陈其苗  chenqimiao1994@126.com    25663  41874356   \n",
      "18915  Rossen Stoyanchev  rstoyanchev@pivotal.io    25663  41876347   \n",
      "18916  Rossen Stoyanchev  rstoyanchev@pivotal.io    25663  41876346   \n",
      "18917  Rossen Stoyanchev  rstoyanchev@pivotal.io    25663  41876348   \n",
      "\n",
      "           cmt_author_timestamp  \n",
      "0     2019-03-01 09:17:31+00:00  \n",
      "1     2019-03-01 09:17:31+00:00  \n",
      "2     2019-03-01 09:17:31+00:00  \n",
      "3     2019-03-01 09:17:31+00:00  \n",
      "4     2019-03-01 09:17:31+00:00  \n",
      "...                         ...  \n",
      "18913 2020-02-28 15:55:41+00:00  \n",
      "18914 2020-02-28 16:24:54+00:00  \n",
      "18915 2020-02-28 17:15:56+00:00  \n",
      "18916 2020-02-28 17:15:56+00:00  \n",
      "18917 2020-02-28 17:15:56+00:00  \n",
      "\n",
      "[18918 rows x 5 columns]\n"
     ]
    }
   ],
   "source": [
    "print(commitsDF)"
   ]
  },
  {
   "cell_type": "code",
   "execution_count": 21,
   "metadata": {},
   "outputs": [
    {
     "name": "stdout",
     "output_type": "stream",
     "text": [
      "18918\n"
     ]
    }
   ],
   "source": [
    "total_commits = commitsDF.cmt_id.nunique()\n",
    "print(total_commits)"
   ]
  },
  {
   "cell_type": "code",
   "execution_count": 22,
   "metadata": {},
   "outputs": [
    {
     "name": "stdout",
     "output_type": "stream",
     "text": [
      "                name  commits   percent\n",
      "0        Sam Brannen     6634  0.350671\n",
      "1       Phillip Webb     6561  0.346813\n",
      "2    Juergen Hoeller     1369  0.072365\n",
      "3  Rossen Stoyanchev     1332  0.070409\n",
      "4  Sebastien Deleuze      704  0.037213\n",
      "5          Phil Webb      671  0.035469\n",
      "6       Brian Clozel      360  0.019029\n",
      "7      Arjen Poutsma      286  0.015118\n",
      "8          Rob Winch      132  0.006977\n",
      "9    Stephane Nicoll      121  0.006396\n"
     ]
    }
   ],
   "source": [
    "authorDF = pd.DataFrame()\n",
    "authorDF = commitsDF.cmt_author_name.value_counts()\n",
    "authorDF = authorDF.reset_index()\n",
    "authorDF.columns = ['name', 'commits']\n",
    "authorDF['percent'] = authorDF['commits'] / total_commits\n",
    "print(authorDF.head(10))"
   ]
  },
  {
   "cell_type": "code",
   "execution_count": 23,
   "metadata": {},
   "outputs": [
    {
     "name": "stdout",
     "output_type": "stream",
     "text": [
      "Contributor Risk Metric Assessment: AT RISK \n",
      "\n",
      "Only 2 people make up 70% of the commits in the past year:\n",
      "Sam Brannen 35% - 6634 commits\n",
      "Phillip Webb 35% - 6561 commits\n",
      "\n",
      "A healthy project should have at a minimum 3 people who combined account for the majority of the commits. The higher this number is, the more likely your project would succeed if a leading contributor suddenly left the project.\n"
     ]
    }
   ],
   "source": [
    "cum_percent = 0\n",
    "people_list = []\n",
    "\n",
    "for item in authorDF.iterrows():\n",
    "    name = item[1]['name']\n",
    "    percent = item[1]['percent']\n",
    "    commits = item[1]['commits']\n",
    "    \n",
    "    cum_percent += percent\n",
    "    \n",
    "    people_list.append([name, percent, commits])\n",
    "    if cum_percent > .50:\n",
    "        break\n",
    "\n",
    "print(\"Contributor Risk Metric Assessment: \", end = '')\n",
    "num_people = len(people_list)\n",
    "if num_people < 3:\n",
    "    print('AT RISK \\n\\nOnly ', end = '')\n",
    "else:\n",
    "    print('Healthy\\n')\n",
    "    \n",
    "print(num_people, \"people make up\", \"{:.0%}\".format(cum_percent), \"of the commits in the past year:\")\n",
    "\n",
    "for person in people_list:\n",
    "    name = person[0]\n",
    "    percent = person[1]\n",
    "    commits = person[2]\n",
    "    print(name, \"{:.0%}\".format(percent), \"-\", commits, \"commits\")\n",
    "    \n",
    "print(\"\\nA healthy project should have at a minimum 3 people who combined account for the majority of the commits. The higher this number is, the more likely your project would succeed if a leading contributor suddenly left the project.\")"
   ]
  },
  {
   "cell_type": "code",
   "execution_count": null,
   "metadata": {},
   "outputs": [],
   "source": []
  },
  {
   "cell_type": "code",
   "execution_count": null,
   "metadata": {},
   "outputs": [],
   "source": []
  }
 ],
 "metadata": {
  "kernelspec": {
   "display_name": "Python 3",
   "language": "python",
   "name": "python3"
  },
  "language_info": {
   "codemirror_mode": {
    "name": "ipython",
    "version": 3
   },
   "file_extension": ".py",
   "mimetype": "text/x-python",
   "name": "python",
   "nbconvert_exporter": "python",
   "pygments_lexer": "ipython3",
   "version": "3.7.4"
  }
 },
 "nbformat": 4,
 "nbformat_minor": 2
}
