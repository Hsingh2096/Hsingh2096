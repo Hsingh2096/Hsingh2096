{
 "cells": [
  {
   "cell_type": "code",
   "execution_count": 1,
   "metadata": {},
   "outputs": [],
   "source": [
    "import psycopg2\n",
    "import pandas as pd \n",
    "# from sqlalchemy.types import Integer, Text, String, DateTime\n",
    "import sqlalchemy as s\n",
    "import matplotlib\n",
    "import numpy as np\n",
    "import seaborn as sns\n",
    "import matplotlib.pyplot as plt\n",
    "import json\n",
    "\n",
    "with open(\"config.json\") as config_file:\n",
    "    config = json.load(config_file)\n",
    "\n",
    "database_connection_string = 'postgres+psycopg2://{}:{}@{}:{}/{}'.format(config['user'], config['password'], config['host'], config['port'], config['database'])\n",
    "\n",
    "dbschema='augur_data'\n",
    "engine = s.create_engine(\n",
    "    database_connection_string,\n",
    "    connect_args={'options': '-csearch_path={}'.format(dbschema)})"
   ]
  },
  {
   "cell_type": "code",
   "execution_count": 2,
   "metadata": {},
   "outputs": [
    {
     "name": "stdout",
     "output_type": "stream",
     "text": [
      "   repo_id        repo_name                              repo_path\n",
      "0    26235        concourse               github.com/pcfdev-forks/\n",
      "1    28051        concourse                  github.com/concourse/\n",
      "2    28030         sonobuoy               github.com/vmware-tanzu/\n",
      "3    27913          clarity                     github.com/vmware/\n",
      "4    26983        postfacto                    github.com/pivotal/\n",
      "5    27169             gpdb                github.com/pivotal-gss/\n",
      "6    25857             gpdb               github.com/greenplum-db/\n",
      "7    25432  rabbitmq-server                   github.com/rabbitmq/\n",
      "8    26600             gpdb  github.com/Pivotal-Field-Engineering/\n",
      "9    27043            kpack                    github.com/pivotal/\n"
     ]
    }
   ],
   "source": [
    "repo_list = pd.DataFrame()\n",
    "repo_list_query = f\"\"\"\n",
    "SELECT repo_id, repo_name, repo_path from repo\n",
    "WHERE repo_name = 'concourse' OR repo_name = 'postfacto' or repo_name = 'clarity' or repo_name = 'gpdb' or\n",
    "      repo_name = 'kpack' or repo_name = 'rabbitmq-server' or repo_name = 'sonobuoy';\n",
    "    \"\"\"\n",
    "repo_list = pd.read_sql_query(repo_list_query, con=engine)\n",
    "print(repo_list)"
   ]
  },
  {
   "cell_type": "code",
   "execution_count": 16,
   "metadata": {},
   "outputs": [],
   "source": [
    "## List of repository IDs for the report\n",
    "#repo_dict = {25760, 25663} #spring-boot & spring-framework\n",
    "#repo_dict = {28051} # concourse\n",
    "#repo_dict = {26983} #postfacto\n",
    "repo_dict = {25432} #rabbitmq-server\n",
    "#repo_dict = {25663} #spring-framework\n",
    "#repo_dict = {28030} #sonobuoy"
   ]
  },
  {
   "cell_type": "code",
   "execution_count": 17,
   "metadata": {},
   "outputs": [
    {
     "name": "stdout",
     "output_type": "stream",
     "text": [
      "'2020-03-17'\n",
      "'2020-02-29'\n",
      "'2019-03-01'\n"
     ]
    }
   ],
   "source": [
    "#from datetime import date\n",
    "import datetime \n",
    "\n",
    "current = datetime.date.today()\n",
    "today = \"'\" + str(current) + \"'\"\n",
    "print(today)\n",
    "\n",
    "first_current = current.replace(day=1)\n",
    "last_month = first_current - datetime.timedelta(days=1)\n",
    "end_date = \"'\" + str(last_month) + \"'\"\n",
    "print(end_date)\n",
    "\n",
    "print\n",
    "\n",
    "start = last_month - datetime.timedelta(days=365)\n",
    "year_ago = \"'\" + str(start) + \"'\"\n",
    "print(year_ago)"
   ]
  },
  {
   "cell_type": "code",
   "execution_count": 22,
   "metadata": {},
   "outputs": [],
   "source": [
    "#Commit data - from humans excluding known bots\n",
    "commitsDF = pd.DataFrame()\n",
    "for value in repo_dict: \n",
    "    commitsquery = f\"\"\"\n",
    "                    SELECT\n",
    "                        CASE WHEN contributors.cntrb_canonical IS NOT NULL THEN contributors.cntrb_canonical ELSE cmt_author_email END AS cntrb_canonical,\n",
    "                        CASE WHEN canonical_full_names.cntrb_full_name IS NOT NULL THEN canonical_full_names.cntrb_full_name ELSE cmt_author_name END AS canonical_full_name,\n",
    "                        cmt_author_name, cmt_author_email, repo_id, cmt_id, cmt_author_timestamp \n",
    "                    FROM commits \n",
    "                        LEFT OUTER JOIN contributors ON cntrb_email = cmt_author_email\n",
    "                        LEFT OUTER JOIN (\n",
    "                            SELECT cntrb_canonical, cntrb_full_name \n",
    "                            FROM contributors\n",
    "                            WHERE cntrb_canonical = cntrb_email\n",
    "                        ) canonical_full_names\n",
    "                        ON canonical_full_names.cntrb_canonical = contributors.cntrb_canonical\n",
    "                    WHERE\n",
    "                        repo_id = {value}\n",
    "                        AND cmt_author_name NOT LIKE 'snyk%%'\n",
    "                        AND cmt_author_name NOT LIKE '%%bot'\n",
    "                        AND cmt_author_name != 'Spring Operator'\n",
    "                         AND cmt_author_timestamp >= {year_ago}\n",
    "                         AND cmt_author_timestamp <= {end_date}\n",
    "                    ORDER BY\n",
    "                        cntrb_canonical;\n",
    "                    \"\"\"\n",
    "    \n",
    "    get_repo_name_query = f\"\"\"\n",
    "        SELECT repo_name from repo where repo_id = {value};\n",
    "           \"\"\"\n",
    "    get_repo_name = pd.read_sql_query(get_repo_name_query, con=engine)\n",
    "    repo_name = get_repo_name.repo_name[0]\n",
    "    \n",
    "commitsDF = pd.read_sql_query(commitsquery, con=engine)\n",
    "                        "
   ]
  },
  {
   "cell_type": "code",
   "execution_count": 23,
   "metadata": {},
   "outputs": [
    {
     "name": "stdout",
     "output_type": "stream",
     "text": [
      "             cntrb_canonical canonical_full_name     cmt_author_name  \\\n",
      "0     acogoluegnes@gmail.com  Arnaud Cogoluègnes  Arnaud Cogoluègnes   \n",
      "1     acogoluegnes@gmail.com  Arnaud Cogoluègnes  Arnaud Cogoluègnes   \n",
      "2     acogoluegnes@gmail.com  Arnaud Cogoluègnes  Arnaud Cogoluègnes   \n",
      "3     acogoluegnes@gmail.com  Arnaud Cogoluègnes  Arnaud Cogoluègnes   \n",
      "4     acogoluegnes@gmail.com  Arnaud Cogoluègnes  Arnaud Cogoluègnes   \n",
      "...                      ...                 ...                 ...   \n",
      "1205          yxszyn@163.com           tomyouyou           tomyouyou   \n",
      "1206          yxszyn@163.com           tomyouyou           tomyouyou   \n",
      "1207          yxszyn@163.com           tomyouyou           tomyouyou   \n",
      "1208          yxszyn@163.com           tomyouyou           tomyouyou   \n",
      "1209          yxszyn@163.com           tomyouyou           tomyouyou   \n",
      "\n",
      "            cmt_author_email  repo_id    cmt_id      cmt_author_timestamp  \n",
      "0     acogoluegnes@gmail.com    25432  37374956 2019-05-29 08:26:52+00:00  \n",
      "1     acogoluegnes@gmail.com    25432  37383294 2019-09-25 09:00:16+00:00  \n",
      "2     acogoluegnes@gmail.com    25432  37376784 2020-01-20 09:51:56+00:00  \n",
      "3     acogoluegnes@gmail.com    25432  37373718 2019-11-26 10:40:17+00:00  \n",
      "4     acogoluegnes@gmail.com    25432  37373719 2019-11-26 10:40:17+00:00  \n",
      "...                      ...      ...       ...                       ...  \n",
      "1205          yxszyn@163.com    25432  37387125 2019-09-04 03:51:08+00:00  \n",
      "1206          yxszyn@163.com    25432  37369616 2019-09-07 08:18:19+00:00  \n",
      "1207          yxszyn@163.com    25432  37380689 2020-01-11 03:06:53+00:00  \n",
      "1208          yxszyn@163.com    25432  37377752 2019-12-26 06:32:07+00:00  \n",
      "1209          yxszyn@163.com    25432  37395858 2019-08-31 07:27:44+00:00  \n",
      "\n",
      "[1210 rows x 7 columns]\n"
     ]
    }
   ],
   "source": [
    "print(commitsDF)"
   ]
  },
  {
   "cell_type": "code",
   "execution_count": 24,
   "metadata": {},
   "outputs": [
    {
     "name": "stdout",
     "output_type": "stream",
     "text": [
      "1210\n"
     ]
    }
   ],
   "source": [
    "total_commits = commitsDF.cmt_id.nunique()\n",
    "print(total_commits)"
   ]
  },
  {
   "cell_type": "code",
   "execution_count": 27,
   "metadata": {},
   "outputs": [
    {
     "name": "stdout",
     "output_type": "stream",
     "text": [
      "                    name  commits   percent\n",
      "0        Michael Klishin      584  0.482645\n",
      "1  Jean-Sébastien Pédron      196  0.161983\n",
      "2              kjnilsson      105  0.086777\n",
      "3            Luke Bakken       67  0.055372\n",
      "4         Diana Corbacho       67  0.055372\n",
      "5              dcorbacho       51  0.042149\n",
      "6         Daniil Fedotov       31  0.025620\n",
      "7     Arnaud Cogoluègnes       26  0.021488\n",
      "8           Gerhard Lazu       23  0.019008\n",
      "9           Karl Nilsson       10  0.008264\n"
     ]
    }
   ],
   "source": [
    "authorDF = pd.DataFrame()\n",
    "authorDF = commitsDF.canonical_full_name.value_counts()\n",
    "authorDF = authorDF.reset_index()\n",
    "authorDF.columns = ['name', 'commits']\n",
    "authorDF['percent'] = authorDF['commits'] / total_commits\n",
    "print(authorDF.head(10))"
   ]
  },
  {
   "cell_type": "code",
   "execution_count": 28,
   "metadata": {},
   "outputs": [
    {
     "name": "stdout",
     "output_type": "stream",
     "text": [
      "Contributor Risk Metric Assessment for rabbitmq-server: AT RISK \n",
      "\n",
      "Only 2 people make up 64% of the commits in the past year:\n",
      "Michael Klishin 48% - 584 commits\n",
      "Jean-Sébastien Pédron 16% - 196 commits\n",
      "\n",
      "A healthy project should have at a minimum 3 people who combined account for the majority (>50%) of the commits. The higher this number is, the more likely your project would succeed if a leading contributor suddenly left the project.\n"
     ]
    }
   ],
   "source": [
    "cum_percent = 0\n",
    "people_list = []\n",
    "\n",
    "for item in authorDF.iterrows():\n",
    "    name = item[1]['name']\n",
    "    percent = item[1]['percent']\n",
    "    commits = item[1]['commits']\n",
    "    \n",
    "    cum_percent += percent\n",
    "    \n",
    "    people_list.append([name, percent, commits])\n",
    "    if cum_percent > .50:\n",
    "        break\n",
    "\n",
    "print(\"Contributor Risk Metric Assessment for \", repo_name, \": \", end = '', sep = '')\n",
    "num_people = len(people_list)\n",
    "if num_people < 3:\n",
    "    print('AT RISK \\n\\nOnly ', end = '')\n",
    "else:\n",
    "    print('Healthy\\n')\n",
    "    \n",
    "print(num_people, \"people make up\", \"{:.0%}\".format(cum_percent), \"of the commits in the past year:\")\n",
    "\n",
    "for person in people_list:\n",
    "    name = person[0]\n",
    "    percent = person[1]\n",
    "    commits = person[2]\n",
    "    print(name, \"{:.0%}\".format(percent), \"-\", commits, \"commits\")\n",
    "    \n",
    "print(\"\\nA healthy project should have at a minimum 3 people who combined account for the majority (>50%) of the commits. The higher this number is, the more likely your project would succeed if a leading contributor suddenly left the project.\")"
   ]
  },
  {
   "cell_type": "code",
   "execution_count": null,
   "metadata": {},
   "outputs": [],
   "source": []
  },
  {
   "cell_type": "code",
   "execution_count": null,
   "metadata": {},
   "outputs": [],
   "source": []
  }
 ],
 "metadata": {
  "kernelspec": {
   "display_name": "Python 3",
   "language": "python",
   "name": "python3"
  },
  "language_info": {
   "codemirror_mode": {
    "name": "ipython",
    "version": 3
   },
   "file_extension": ".py",
   "mimetype": "text/x-python",
   "name": "python",
   "nbconvert_exporter": "python",
   "pygments_lexer": "ipython3",
   "version": "3.7.4"
  }
 },
 "nbformat": 4,
 "nbformat_minor": 2
}
