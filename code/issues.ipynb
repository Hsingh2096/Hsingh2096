{
 "cells": [
  {
   "cell_type": "markdown",
   "metadata": {},
   "source": [
    "# Pull Request Analysis"
   ]
  },
  {
   "cell_type": "code",
   "execution_count": 2,
   "metadata": {},
   "outputs": [],
   "source": [
    "import psycopg2\n",
    "import pandas as pd \n",
    "# from sqlalchemy.types import Integer, Text, String, DateTime\n",
    "import sqlalchemy as s\n",
    "import matplotlib\n",
    "import numpy as np\n",
    "import seaborn as sns\n",
    "import matplotlib.pyplot as plt\n",
    "import json\n",
    "\n",
    "with open(\"config.json\") as config_file:\n",
    "    config = json.load(config_file)\n",
    "\n",
    "database_connection_string = 'postgres+psycopg2://{}:{}@{}:{}/{}'.format(config['user'], config['password'], config['host'], config['port'], config['database'])\n",
    "\n",
    "dbschema='augur_data'\n",
    "engine = s.create_engine(\n",
    "    database_connection_string,\n",
    "    connect_args={'options': '-csearch_path={}'.format(dbschema)})"
   ]
  },
  {
   "cell_type": "markdown",
   "metadata": {},
   "source": [
    "## Pull Request Filter"
   ]
  },
  {
   "cell_type": "code",
   "execution_count": 3,
   "metadata": {},
   "outputs": [],
   "source": [
    "## List of repository IDs for the report\n",
    "repo_set = {25760, 25663}"
   ]
  },
  {
   "cell_type": "markdown",
   "metadata": {},
   "source": [
    "# This query describes the total number of issues opened in a repository, and the average, maximum and minimum number of comments on an issue. \n",
    "\n",
    "## Getting the Data"
   ]
  },
  {
   "cell_type": "code",
   "execution_count": 7,
   "metadata": {},
   "outputs": [],
   "source": [
    "pr_all = pd.DataFrame()\n",
    "# \n",
    "for repo_id in repo_set: \n",
    "\n",
    "    pr_query = salc.sql.text(f\"\"\"\n",
    "                      SELECT\n",
    "        repo.repo_id,\n",
    "        repo.repo_name,\n",
    "        repo_groups.rg_name,\n",
    "        E.issues_count,\n",
    "        AVG ( D.comment_count ) AS average_comments,\n",
    "        MAX ( D.comment_count ) AS max_comments,\n",
    "        MIN ( D.comment_count ) AS min_comments,\n",
    "        stddev( D.comment_count ) AS stddev_comments \n",
    "    FROM\n",
    "        repo\n",
    "        LEFT OUTER JOIN (\n",
    "        SELECT\n",
    "            issues.issue_id,\n",
    "            issues.repo_id,\n",
    "            COUNT ( K.issue_msg_ref_id ) AS comment_count \n",
    "        FROM\n",
    "            issues\n",
    "            LEFT OUTER JOIN issue_message_ref K ON issues.issue_id = K.issue_id \n",
    "        WHERE\n",
    "            pull_request IS NULL -- GitHub provides pull requests in their issues API, as well as their pull requests API. We do not exclude this data from collection because it would make the provenance of the data we collect less transparent. We apply filters in queries and API endpoints, but not collection.\n",
    "            \n",
    "        GROUP BY\n",
    "            issues.issue_id,\n",
    "            issues.repo_id \n",
    "        ORDER BY\n",
    "            issues.repo_id \n",
    "        ) D ON repo.repo_id = D.repo_id,\n",
    "        repo_groups,\n",
    "        ( -- subquery table to provide issues count in context \n",
    "        SELECT\n",
    "            repo.repo_id,\n",
    "            COUNT ( issue_id ) AS issues_count \n",
    "        FROM\n",
    "            repo\n",
    "            LEFT OUTER JOIN (\n",
    "            SELECT\n",
    "                repo.repo_id,\n",
    "                issues.issue_id --the \"double left outer join here seems puzzling. TO preserve \"one row per repo\" and exclude pull requests, we FIRST need to get a list of issues that are not pull requests, then count those. WIthout the \"double left outer join\", we would exclude repos that use pull requests, but not issues on GitHub\n",
    "                \n",
    "            FROM\n",
    "                repo\n",
    "                LEFT OUTER JOIN issues ON issues.repo_id = repo.repo_id \n",
    "            WHERE\n",
    "                issues.pull_request IS NULL -- here again, excluding pull_requests at data analysis, but preserving GitHub API Provenance\n",
    "                \n",
    "            ) K ON repo.repo_id = K.repo_id \n",
    "        GROUP BY\n",
    "            repo.repo_id \n",
    "        ) E -- this subquery table is what gives us the issue count per repo as context for deciding if repos with very small issue counts are excluded from some analyses.\n",
    "        \n",
    "    WHERE\n",
    "        repo.repo_group_id = repo_groups.repo_group_id \n",
    "        AND repo.repo_id = E.repo_id \n",
    "        AND repo.repo_id = {repo_id}\n",
    "    GROUP BY\n",
    "        repo.repo_id,\n",
    "        repo.repo_name,\n",
    "        repo_groups.rg_name,\n",
    "        repo_groups.repo_group_id,\n",
    "        E.issues_count \n",
    "    ORDER BY\n",
    "        rg_name,\n",
    "        repo_name;\n",
    "\n",
    "        \"\"\")\n",
    "    pr_a = pd.read_sql(pr_query, con=engine)\n",
    "    if not pr_all.empty: \n",
    "        pr_all = pd.concat([pr_all, pr_a]) \n",
    "    else: \n",
    "        # first repo\n",
    "        pr_all = pr_a\n",
    "        \n"
   ]
  },
  {
   "cell_type": "code",
   "execution_count": 8,
   "metadata": {},
   "outputs": [
    {
     "name": "stdout",
     "output_type": "stream",
     "text": [
      "   repo_id         repo_name          rg_name  issues_count  average_comments  \\\n",
      "0    25760       spring-boot  Spring-projects         16275          0.378679   \n",
      "0    25663  spring-framework  Spring-projects         19216          0.309221   \n",
      "\n",
      "   max_comments  min_comments  stddev_comments  \n",
      "0           725             0        15.007403  \n",
      "0           547             0        12.372669  \n"
     ]
    }
   ],
   "source": [
    "print(pr_all)"
   ]
  },
  {
   "cell_type": "code",
   "execution_count": null,
   "metadata": {},
   "outputs": [],
   "source": []
  }
 ],
 "metadata": {
  "kernelspec": {
   "display_name": "Python 3",
   "language": "python",
   "name": "python3"
  },
  "language_info": {
   "codemirror_mode": {
    "name": "ipython",
    "version": 3
   },
   "file_extension": ".py",
   "mimetype": "text/x-python",
   "name": "python",
   "nbconvert_exporter": "python",
   "pygments_lexer": "ipython3",
   "version": "3.7.3"
  }
 },
 "nbformat": 4,
 "nbformat_minor": 4
}
