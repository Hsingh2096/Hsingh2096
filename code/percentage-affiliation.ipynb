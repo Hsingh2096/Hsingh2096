{
 "cells": [
  {
   "cell_type": "markdown",
   "metadata": {},
   "source": [
    "# Pull Request Analysis"
   ]
  },
  {
   "cell_type": "code",
   "execution_count": 3,
   "metadata": {},
   "outputs": [],
   "source": [
    "import psycopg2\n",
    "import pandas as pd \n",
    "# from sqlalchemy.types import Integer, Text, String, DateTime\n",
    "import sqlalchemy as s\n",
    "import matplotlib\n",
    "import numpy as np\n",
    "import seaborn as sns\n",
    "import matplotlib.pyplot as plt\n",
    "import json\n",
    "\n",
    "with open(\"config.json\") as config_file:\n",
    "    config = json.load(config_file)\n",
    "\n",
    "database_connection_string = 'postgres+psycopg2://{}:{}@{}:{}/{}'.format(config['user'], config['password'], config['host'], config['port'], config['database'])\n",
    "\n",
    "dbschema='augur_data'\n",
    "engine = s.create_engine(\n",
    "    database_connection_string,\n",
    "    connect_args={'options': '-csearch_path={}'.format(dbschema)})"
   ]
  },
  {
   "cell_type": "code",
   "execution_count": 5,
   "metadata": {},
   "outputs": [
    {
     "name": "stdout",
     "output_type": "stream",
     "text": [
      "      repo_group_id  repo_id                           repo_name\n",
      "0             25170    26687            distributed-tracing-demo\n",
      "1             25170    26720        pa-services-execution-method\n",
      "2             25179    27493  docs-boomi-atomsphere-int-services\n",
      "3             25176    27178                    Out-Of-Queue-Bot\n",
      "4             25177    27191        tcserver-spring-boot-samples\n",
      "...             ...      ...                                 ...\n",
      "2404          25171    26973                              fiscal\n",
      "2405          25179    27274                                a11y\n",
      "2406          25164    26130                philips-hue-resource\n",
      "2407          25179    27399           pcf-bosh-terraforming-gcp\n",
      "2408          25155    25541                rabbitmq-trust-store\n",
      "\n",
      "[2409 rows x 3 columns]\n"
     ]
    }
   ],
   "source": [
    "repo_id_list = pd.DataFrame()\n",
    "myQuery = f\"\"\"\n",
    "SELECT repo_group_id, repo_id, repo_name from repo;\n",
    "    \"\"\"\n",
    "repo_id_list = pd.read_sql_query(myQuery, con=engine)\n",
    "print(repo_id_list)"
   ]
  },
  {
   "cell_type": "markdown",
   "metadata": {},
   "source": [
    "## Pull Request Filter"
   ]
  },
  {
   "cell_type": "code",
   "execution_count": 2,
   "metadata": {},
   "outputs": [],
   "source": [
    "## List of repository IDs for the report\n",
    "repo_dict = {26214, 26215,26216, 26220, 26219, 25158, 26217, 26218}"
   ]
  }
 ],
 "metadata": {
  "kernelspec": {
   "display_name": "Python 3",
   "language": "python",
   "name": "python3"
  },
  "language_info": {
   "codemirror_mode": {
    "name": "ipython",
    "version": 3
   },
   "file_extension": ".py",
   "mimetype": "text/x-python",
   "name": "python",
   "nbconvert_exporter": "python",
   "pygments_lexer": "ipython3",
   "version": "3.7.3"
  }
 },
 "nbformat": 4,
 "nbformat_minor": 4
}
